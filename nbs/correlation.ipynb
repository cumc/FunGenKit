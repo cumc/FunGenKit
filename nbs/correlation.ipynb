{
 "cells": [
  {
   "cell_type": "code",
   "execution_count": 7,
   "id": "sticky-yield",
   "metadata": {},
   "outputs": [],
   "source": [
    "# export\n",
    "\n",
    "import numpy as np\n",
    "from multiprocessing import Pool\n",
    "import time\n",
    "\n",
    "def np_pearson_cor(x, y, yv=None, yvss=None):\n",
    "    # Derivation see: https://cancerdatascience.org/blog/posts/pearson-correlation/\n",
    "    if yv is None or yvss is None:\n",
    "        yv = y - y.mean(axis=1, keepdims=True)\n",
    "        yvss = (yv * yv).sum(axis=1)\n",
    "\n",
    "    xv = x - x.mean(axis=1, keepdims=True)\n",
    "    xvss = (xv * xv).sum(axis=1)\n",
    "    result = np.matmul(xv, yv.T) / np.sqrt(np.outer(xvss, yvss))\n",
    "    return np.maximum(np.minimum(result, 1.0), -1.0)\n",
    "\n",
    "def correlation_chunk(start_row, end_row, data, yv, yvss):\n",
    "    chunk = data[start_row:end_row]\n",
    "    return np_pearson_cor(chunk, data, yv, yvss)\n",
    "\n",
    "def correlation_matrix_by_rows(data, chunk_size, num_processes=None):\n",
    "    n_rows = data.shape[0]\n",
    "    correlation_matrix = np.zeros((n_rows, n_rows))\n",
    "\n",
    "    yv = data - data.mean(axis=1, keepdims=True)\n",
    "    yvss = (yv * yv).sum(axis=1)\n",
    "\n",
    "    if num_processes is None or num_processes <= 1:\n",
    "        # Non-parallel execution\n",
    "        for start_row in range(0, n_rows, chunk_size):\n",
    "            end_row = min(start_row + chunk_size, n_rows)\n",
    "            chunk_corr = np_pearson_cor(data[start_row:end_row], data, yv, yvss)\n",
    "            correlation_matrix[start_row:end_row, :] = chunk_corr\n",
    "    else:\n",
    "        # Parallel execution\n",
    "        row_ranges = [(start, min(start + chunk_size, n_rows)) for start in range(0, n_rows, chunk_size)]\n",
    "        with Pool(processes=num_processes) as pool:\n",
    "            results = pool.starmap(correlation_chunk, [(start, end, data, yv, yvss) for start, end in row_ranges])\n",
    "\n",
    "        # Assemble the correlation matrix from the results\n",
    "        for idx, (start, end) in enumerate(row_ranges):\n",
    "            correlation_matrix[start:end, :] = results[idx]\n",
    "\n",
    "    # Mirror the upper triangle to the lower triangle\n",
    "    i_lower = np.tril_indices(n_rows, -1)\n",
    "    correlation_matrix[i_lower] = correlation_matrix.T[i_lower]\n",
    "\n",
    "    return correlation_matrix"
   ]
  },
  {
   "cell_type": "code",
   "execution_count": 9,
   "id": "southeast-savannah",
   "metadata": {},
   "outputs": [],
   "source": [
    "def test_correlation_matrix_by_rows():\n",
    "    data_matrix = np.random.rand(1000, 100)  # Example large data matrix\n",
    "    chunk_size = 100  # Define chunk size\n",
    "    num_processes = 4  # Number of parallel processes\n",
    "    start_time_custom_parallel = time.time()\n",
    "    correlation_matrix_custom = correlation_matrix_by_rows(data_matrix, chunk_size, num_processes)\n",
    "    correlation_matrix_np = np.corrcoef(data_matrix, rowvar=True)\n",
    "    accuracy = np.allclose(correlation_matrix_custom, correlation_matrix_np)\n",
    "    assert accuracy == True\n",
    "test_correlation_matrix_by_rows()"
   ]
  }
 ],
 "metadata": {
  "kernelspec": {
   "display_name": "Python 3",
   "language": "python",
   "name": "python3"
  },
  "language_info": {
   "codemirror_mode": {
    "name": "ipython",
    "version": 3
   },
   "file_extension": ".py",
   "mimetype": "text/x-python",
   "name": "python",
   "nbconvert_exporter": "python",
   "pygments_lexer": "ipython3",
   "version": "3.8.5"
  }
 },
 "nbformat": 4,
 "nbformat_minor": 5
}
